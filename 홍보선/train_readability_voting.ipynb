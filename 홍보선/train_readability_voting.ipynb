{
 "cells": [
  {
   "cell_type": "code",
   "execution_count": 3,
   "metadata": {},
   "outputs": [
    {
     "name": "stderr",
     "output_type": "stream",
     "text": [
      "/usr/local/lib/python3.8/dist-packages/tqdm/auto.py:21: TqdmWarning: IProgress not found. Please update jupyter and ipywidgets. See https://ipywidgets.readthedocs.io/en/stable/user_install.html\n",
      "  from .autonotebook import tqdm as notebook_tqdm\n"
     ]
    }
   ],
   "source": [
    "import sys\n",
    "import gc\n",
    "\n",
    "import pandas as pd\n",
    "from sklearn.model_selection import StratifiedKFold\n",
    "import numpy as np\n",
    "from sklearn.metrics import roc_auc_score\n",
    "import numpy as np\n",
    "from lightgbm import LGBMClassifier\n",
    "from catboost import CatBoostClassifier\n",
    "from sklearn.feature_extraction.text import TfidfVectorizer\n",
    "\n",
    "from tokenizers import (\n",
    "    decoders,\n",
    "    models,\n",
    "    normalizers,\n",
    "    pre_tokenizers,\n",
    "    processors,\n",
    "    trainers,\n",
    "    Tokenizer,\n",
    ")\n",
    "\n",
    "from datasets import Dataset\n",
    "from tqdm.auto import tqdm\n",
    "from transformers import PreTrainedTokenizerFast\n",
    "\n",
    "from sklearn.linear_model import SGDClassifier\n",
    "from sklearn.naive_bayes import MultinomialNB\n",
    "from sklearn.ensemble import VotingClassifier\n",
    "\n",
    "test = pd.read_csv('/root/03-S_NLP/DetectAI/00-data/test_essays.csv')\n",
    "sub = pd.read_csv('/root/03-S_NLP/DetectAI/00-data/sample_submission.csv')\n",
    "org_train = pd.read_csv('/root/03-S_NLP/DetectAI/00-data/train_essays.csv')\n",
    "train = pd.read_csv(\"/root/03-S_NLP/DetectAI/00-data/train_v2_drcat_02.csv\", sep=',')"
   ]
  },
  {
   "cell_type": "code",
   "execution_count": 4,
   "metadata": {},
   "outputs": [],
   "source": [
    "# 학습데이터 'text' 기준 중복 제거\n",
    "train = train.drop_duplicates(subset=['text'])\n",
    "train.reset_index(drop=True, inplace=True)"
   ]
  },
  {
   "cell_type": "code",
   "execution_count": 6,
   "metadata": {},
   "outputs": [],
   "source": [
    "from readability import Readability\n",
    "import seaborn as sns\n",
    "import matplotlib.pyplot as plt\n",
    "# 가독성 점수\n",
    "'''\n",
    "flesch_kincaid : 미국 학교 수준의 가독성 등급 (낮을수록 좋은거)\n",
    "flesch : 평균 문장 길이와 단어당 평균 음절 수를 기준으로 가독성 점수를 제공 (높을수록)\n",
    "gunning_fog : 텍스트를 이해하는 데 필요한 정규 교육 기간을 추정 (낮을수록)\n",
    "coleman_liau : 텍스트를 이해하는 데 필요한 대략적인 미국 학교 학년 수준을 계산, 단어와 문장당 평균 문자 수를 고려\n",
    "dale_chall : 대부분의 4학년 학생들에게 친숙한 단어 목록을 고려하여 텍스트 가독성을 평가 (낮을수록)\n",
    "ari : Flesch-Kincaid 학년 수준과 유사하게 단어당 문자와 ​​문장당 단어를 기준으로 텍스트를 이해하는 데 필요한 대략적인 미국 학교 학년 수준을 계산\n",
    "linsear_write : 텍스트의 단순 단어와 복잡한 단어 수를 기준으로 가독성을 측정\n",
    "spache : Dale-Chall 가독성 점수와 유사하게 초기 독자를 위한 친숙한 단어 목록을 기반으로 가독성을 평가\n",
    "'''\n",
    "def extract_scores(text):\n",
    "    try:\n",
    "        r = Readability(text)\n",
    "        scores =  [r.flesch_kincaid().score, r.flesch().score, r.gunning_fog().score, r.coleman_liau().score, r.dale_chall().score, r.ari().score, r.linsear_write().score, r.spache().score]\n",
    "        return [round(x, 3) + 1000 for x in scores]\n",
    "    except:\n",
    "        return [0]*8\n",
    "train = train.sample(10_00, random_state = 1)\n"
   ]
  },
  {
   "cell_type": "code",
   "execution_count": 7,
   "metadata": {},
   "outputs": [
    {
     "data": {
      "text/plain": [
       "80"
      ]
     },
     "execution_count": 7,
     "metadata": {},
     "output_type": "execute_result"
    }
   ],
   "source": [
    "train['scores'] = train['text'].map(extract_scores)\n",
    "scores_train = train['scores'].apply(pd.Series)\n",
    "scores_train.columns = [ f\"scores_{x}\" for x in scores_train.columns]\n",
    "gc.collect()"
   ]
  },
  {
   "cell_type": "code",
   "execution_count": 8,
   "metadata": {},
   "outputs": [
    {
     "data": {
      "text/html": [
       "<div>\n",
       "<style scoped>\n",
       "    .dataframe tbody tr th:only-of-type {\n",
       "        vertical-align: middle;\n",
       "    }\n",
       "\n",
       "    .dataframe tbody tr th {\n",
       "        vertical-align: top;\n",
       "    }\n",
       "\n",
       "    .dataframe thead th {\n",
       "        text-align: right;\n",
       "    }\n",
       "</style>\n",
       "<table border=\"1\" class=\"dataframe\">\n",
       "  <thead>\n",
       "    <tr style=\"text-align: right;\">\n",
       "      <th></th>\n",
       "      <th>text</th>\n",
       "      <th>label</th>\n",
       "      <th>prompt_name</th>\n",
       "      <th>source</th>\n",
       "      <th>RDizzl3_seven</th>\n",
       "      <th>scores</th>\n",
       "    </tr>\n",
       "  </thead>\n",
       "  <tbody>\n",
       "    <tr>\n",
       "      <th>16750</th>\n",
       "      <td>My position on driverless cars is I think they...</td>\n",
       "      <td>0</td>\n",
       "      <td>Driverless cars</td>\n",
       "      <td>persuade_corpus</td>\n",
       "      <td>True</td>\n",
       "      <td>[1008.197, 1072.834, 1011.825, 1007.246, 1007....</td>\n",
       "    </tr>\n",
       "    <tr>\n",
       "      <th>43217</th>\n",
       "      <td>Cars have been part of our daily lives for dec...</td>\n",
       "      <td>0</td>\n",
       "      <td>Car-free cities</td>\n",
       "      <td>train_essays</td>\n",
       "      <td>True</td>\n",
       "      <td>[1009.875, 1057.344, 1011.564, 1010.262, 1007....</td>\n",
       "    </tr>\n",
       "    <tr>\n",
       "      <th>25569</th>\n",
       "      <td>Getting advice from multiple people is great, ...</td>\n",
       "      <td>0</td>\n",
       "      <td>Seeking multiple opinions</td>\n",
       "      <td>persuade_corpus</td>\n",
       "      <td>False</td>\n",
       "      <td>[1010.775, 1058.194, 1013.894, 1010.076, 1007....</td>\n",
       "    </tr>\n",
       "    <tr>\n",
       "      <th>18847</th>\n",
       "      <td>Getting rid of the electoral college would be ...</td>\n",
       "      <td>0</td>\n",
       "      <td>Does the electoral college work?</td>\n",
       "      <td>persuade_corpus</td>\n",
       "      <td>True</td>\n",
       "      <td>[1010.597, 1054.07, 1013.142, 1009.896, 1008.8...</td>\n",
       "    </tr>\n",
       "    <tr>\n",
       "      <th>22981</th>\n",
       "      <td>Throughout my life, I have wondered what it wo...</td>\n",
       "      <td>0</td>\n",
       "      <td>Distance learning</td>\n",
       "      <td>persuade_corpus</td>\n",
       "      <td>False</td>\n",
       "      <td>[1009.184, 1059.156, 1011.265, 1011.384, 1008....</td>\n",
       "    </tr>\n",
       "    <tr>\n",
       "      <th>...</th>\n",
       "      <td>...</td>\n",
       "      <td>...</td>\n",
       "      <td>...</td>\n",
       "      <td>...</td>\n",
       "      <td>...</td>\n",
       "      <td>...</td>\n",
       "    </tr>\n",
       "    <tr>\n",
       "      <th>11363</th>\n",
       "      <td>I don't believe a technology can identify huma...</td>\n",
       "      <td>0</td>\n",
       "      <td>Facial action coding system</td>\n",
       "      <td>persuade_corpus</td>\n",
       "      <td>True</td>\n",
       "      <td>[1013.344, 1057.511, 1016.793, 1006.182, 1008....</td>\n",
       "    </tr>\n",
       "    <tr>\n",
       "      <th>31992</th>\n",
       "      <td>Sure, here's my attempt at writing an essay as...</td>\n",
       "      <td>1</td>\n",
       "      <td>Seeking multiple opinions</td>\n",
       "      <td>llama2_chat</td>\n",
       "      <td>False</td>\n",
       "      <td>[1006.422, 1079.22, 1008.468, 1007.122, 1006.5...</td>\n",
       "    </tr>\n",
       "    <tr>\n",
       "      <th>39935</th>\n",
       "      <td>Sure, here's my attempt at writing an essay as...</td>\n",
       "      <td>1</td>\n",
       "      <td>Summer projects</td>\n",
       "      <td>llama2_chat</td>\n",
       "      <td>False</td>\n",
       "      <td>[1006.564, 1078.934, 1009.449, 1006.75, 1006.4...</td>\n",
       "    </tr>\n",
       "    <tr>\n",
       "      <th>3102</th>\n",
       "      <td>The debate on the pros and cons of car usage h...</td>\n",
       "      <td>0</td>\n",
       "      <td>Car-free cities</td>\n",
       "      <td>persuade_corpus</td>\n",
       "      <td>True</td>\n",
       "      <td>[1007.188, 1064.93, 1009.736, 1008.981, 1009.1...</td>\n",
       "    </tr>\n",
       "    <tr>\n",
       "      <th>1212</th>\n",
       "      <td>Everybody's got a car, right? Having a car to ...</td>\n",
       "      <td>0</td>\n",
       "      <td>Car-free cities</td>\n",
       "      <td>persuade_corpus</td>\n",
       "      <td>True</td>\n",
       "      <td>[1010.335, 1058.217, 1012.768, 1008.753, 1007....</td>\n",
       "    </tr>\n",
       "  </tbody>\n",
       "</table>\n",
       "<p>1000 rows × 6 columns</p>\n",
       "</div>"
      ],
      "text/plain": [
       "                                                    text  label  \\\n",
       "16750  My position on driverless cars is I think they...      0   \n",
       "43217  Cars have been part of our daily lives for dec...      0   \n",
       "25569  Getting advice from multiple people is great, ...      0   \n",
       "18847  Getting rid of the electoral college would be ...      0   \n",
       "22981  Throughout my life, I have wondered what it wo...      0   \n",
       "...                                                  ...    ...   \n",
       "11363  I don't believe a technology can identify huma...      0   \n",
       "31992  Sure, here's my attempt at writing an essay as...      1   \n",
       "39935  Sure, here's my attempt at writing an essay as...      1   \n",
       "3102   The debate on the pros and cons of car usage h...      0   \n",
       "1212   Everybody's got a car, right? Having a car to ...      0   \n",
       "\n",
       "                            prompt_name           source  RDizzl3_seven  \\\n",
       "16750                   Driverless cars  persuade_corpus           True   \n",
       "43217                   Car-free cities     train_essays           True   \n",
       "25569         Seeking multiple opinions  persuade_corpus          False   \n",
       "18847  Does the electoral college work?  persuade_corpus           True   \n",
       "22981                 Distance learning  persuade_corpus          False   \n",
       "...                                 ...              ...            ...   \n",
       "11363       Facial action coding system  persuade_corpus           True   \n",
       "31992         Seeking multiple opinions      llama2_chat          False   \n",
       "39935                   Summer projects      llama2_chat          False   \n",
       "3102                    Car-free cities  persuade_corpus           True   \n",
       "1212                    Car-free cities  persuade_corpus           True   \n",
       "\n",
       "                                                  scores  \n",
       "16750  [1008.197, 1072.834, 1011.825, 1007.246, 1007....  \n",
       "43217  [1009.875, 1057.344, 1011.564, 1010.262, 1007....  \n",
       "25569  [1010.775, 1058.194, 1013.894, 1010.076, 1007....  \n",
       "18847  [1010.597, 1054.07, 1013.142, 1009.896, 1008.8...  \n",
       "22981  [1009.184, 1059.156, 1011.265, 1011.384, 1008....  \n",
       "...                                                  ...  \n",
       "11363  [1013.344, 1057.511, 1016.793, 1006.182, 1008....  \n",
       "31992  [1006.422, 1079.22, 1008.468, 1007.122, 1006.5...  \n",
       "39935  [1006.564, 1078.934, 1009.449, 1006.75, 1006.4...  \n",
       "3102   [1007.188, 1064.93, 1009.736, 1008.981, 1009.1...  \n",
       "1212   [1010.335, 1058.217, 1012.768, 1008.753, 1007....  \n",
       "\n",
       "[1000 rows x 6 columns]"
      ]
     },
     "execution_count": 8,
     "metadata": {},
     "output_type": "execute_result"
    }
   ],
   "source": [
    "train"
   ]
  },
  {
   "cell_type": "code",
   "execution_count": 9,
   "metadata": {},
   "outputs": [
    {
     "data": {
      "text/plain": [
       "21"
      ]
     },
     "execution_count": 9,
     "metadata": {},
     "output_type": "execute_result"
    }
   ],
   "source": [
    "test['scores'] = test['text'].map(extract_scores)\n",
    "scores_test = test['scores'].apply(pd.Series)\n",
    "scores_test.columns = [ f\"scores_{x}\" for x in scores_test.columns]\n",
    "gc.collect()"
   ]
  },
  {
   "cell_type": "code",
   "execution_count": 10,
   "metadata": {},
   "outputs": [],
   "source": [
    "LOWERCASE = False\n",
    "VOCAB_SIZE = 30522"
   ]
  },
  {
   "cell_type": "code",
   "execution_count": 11,
   "metadata": {},
   "outputs": [
    {
     "name": "stdout",
     "output_type": "stream",
     "text": [
      "\n",
      "\n",
      "\n"
     ]
    },
    {
     "name": "stderr",
     "output_type": "stream",
     "text": [
      "100%|██████████| 3/3 [00:00<00:00, 2673.23it/s]\n",
      "100%|██████████| 1000/1000 [00:01<00:00, 558.38it/s]\n"
     ]
    }
   ],
   "source": [
    "# Creating Byte-Pair Encoding tokenizer\n",
    "raw_tokenizer = Tokenizer(models.BPE(unk_token=\"[UNK]\"))\n",
    "raw_tokenizer.normalizer = normalizers.Sequence([normalizers.NFC()] + [normalizers.Lowercase()] if LOWERCASE else [])\n",
    "raw_tokenizer.pre_tokenizer = pre_tokenizers.ByteLevel()\n",
    "special_tokens = [\"[UNK]\", \"[PAD]\", \"[CLS]\", \"[SEP]\", \"[MASK]\"]\n",
    "trainer = trainers.BpeTrainer(vocab_size=VOCAB_SIZE, special_tokens=special_tokens)\n",
    "dataset = Dataset.from_pandas(test[['text']])\n",
    "\n",
    "def train_corp_iter(): \n",
    "    for i in range(0, len(dataset), 1000):\n",
    "        yield dataset[i : i + 1000][\"text\"]\n",
    "\n",
    "    \n",
    "raw_tokenizer.train_from_iterator(train_corp_iter(), trainer=trainer)\n",
    "tokenizer = PreTrainedTokenizerFast(\n",
    "    tokenizer_object=raw_tokenizer,\n",
    "    unk_token=\"[UNK]\",\n",
    "    pad_token=\"[PAD]\",\n",
    "    cls_token=\"[CLS]\",\n",
    "    sep_token=\"[SEP]\",\n",
    "    mask_token=\"[MASK]\",\n",
    ")\n",
    "tokenized_texts_test = []\n",
    "\n",
    "for text in tqdm(test['text'].tolist()):\n",
    "    tokenized_texts_test.append(tokenizer.tokenize(text))\n",
    "\n",
    "tokenized_texts_train = []\n",
    "\n",
    "for text in tqdm(train['text'].tolist()):\n",
    "    tokenized_texts_train.append(tokenizer.tokenize(text))"
   ]
  },
  {
   "cell_type": "code",
   "execution_count": 17,
   "metadata": {},
   "outputs": [
    {
     "data": {
      "text/plain": [
       "[['ĠAaa', 'Ġbbb', 'Ġccc', '.'],\n",
       " ['ĠBbb', 'Ġccc', 'Ġddd', '.'],\n",
       " ['ĠCCC', 'Ġddd', 'Ġeee', '.']]"
      ]
     },
     "execution_count": 17,
     "metadata": {},
     "output_type": "execute_result"
    }
   ],
   "source": [
    "tokenized_texts_test"
   ]
  },
  {
   "cell_type": "code",
   "execution_count": 12,
   "metadata": {},
   "outputs": [
    {
     "name": "stdout",
     "output_type": "stream",
     "text": [
      "{'ĠAaa Ġbbb Ġccc': 0, 'Ġbbb Ġccc .': 6, 'ĠAaa Ġbbb Ġccc .': 1, 'ĠBbb Ġccc Ġddd': 2, 'Ġccc Ġddd .': 7, 'ĠBbb Ġccc Ġddd .': 3, 'ĠCCC Ġddd Ġeee': 4, 'Ġddd Ġeee .': 8, 'ĠCCC Ġddd Ġeee .': 5}\n"
     ]
    },
    {
     "data": {
      "text/plain": [
       "23"
      ]
     },
     "execution_count": 12,
     "metadata": {},
     "output_type": "execute_result"
    }
   ],
   "source": [
    "def dummy(text):\n",
    "    return text\n",
    "\n",
    "# scikit-learn의 TF-IDF 벡터화\n",
    "vectorizer = TfidfVectorizer(ngram_range=(3, 5), lowercase=False, sublinear_tf=True, analyzer = 'word',\n",
    "    tokenizer = dummy,\n",
    "    preprocessor = dummy,\n",
    "    token_pattern = None, strip_accents='unicode')\n",
    "\n",
    "vectorizer.fit(tokenized_texts_test)\n",
    "\n",
    "# Getting vocab\n",
    "vocab = vectorizer.vocabulary_\n",
    "\n",
    "print(vocab)\n",
    "\n",
    "vectorizer = TfidfVectorizer(ngram_range=(3, 5), lowercase=False, sublinear_tf=True, vocabulary=vocab,\n",
    "                            analyzer = 'word',\n",
    "                            tokenizer = dummy,\n",
    "                            preprocessor = dummy,\n",
    "                            token_pattern = None, strip_accents='unicode'\n",
    "                            )\n",
    "\n",
    "tf_train = vectorizer.fit_transform(tokenized_texts_train)\n",
    "tf_test = vectorizer.transform(tokenized_texts_test)\n",
    "\n",
    "del vectorizer\n",
    "gc.collect()"
   ]
  },
  {
   "cell_type": "code",
   "execution_count": 13,
   "metadata": {},
   "outputs": [
    {
     "data": {
      "text/plain": [
       "21"
      ]
     },
     "execution_count": 13,
     "metadata": {},
     "output_type": "execute_result"
    }
   ],
   "source": [
    "from scipy.sparse import csr_matrix, hstack\n",
    "\n",
    "df_sparse = csr_matrix(scores_train.values)\n",
    "tf_train = hstack([df_sparse, tf_train])\n",
    "\n",
    "df_sparse = csr_matrix(scores_test.values)\n",
    "tf_test = hstack([df_sparse, tf_test])\n",
    "gc.collect()"
   ]
  },
  {
   "cell_type": "code",
   "execution_count": 14,
   "metadata": {},
   "outputs": [],
   "source": [
    "y_train = train['label'].values"
   ]
  },
  {
   "cell_type": "code",
   "execution_count": 15,
   "metadata": {},
   "outputs": [],
   "source": [
    "if len(test.text.values) <= 5:\n",
    "    sub.to_csv('submission.csv', index=False)\n",
    "else:\n",
    "    clf = MultinomialNB(alpha=0.02)\n",
    "#     clf2 = MultinomialNB(alpha=0.01)\n",
    "    sgd_model = SGDClassifier(max_iter=8000, tol=1e-4, loss=\"modified_huber\") \n",
    "    p6={'n_iter': 1500,'verbose': -1,'objective': 'cross_entropy','metric': 'auc',\n",
    "        'learning_rate': 0.05073909898961407, 'colsample_bytree': 0.726023996436955,\n",
    "        'colsample_bynode': 0.5803681307354022, 'lambda_l1': 8.562963348932286, \n",
    "        'lambda_l2': 4.893256185259296, 'min_data_in_leaf': 115, 'max_depth': 23, 'max_bin': 898}\n",
    "    lgb=LGBMClassifier(**p6)\n",
    "    cat=CatBoostClassifier(iterations=1000,\n",
    "                           verbose=0,\n",
    "                           l2_leaf_reg=6.6591278779517808,\n",
    "                           learning_rate=0.005689066836106983,\n",
    "                           allow_const_label=True,loss_function = 'CrossEntropy')\n",
    "    weights = [0.07,0.31,0.31,0.31]\n",
    " \n",
    "    ensemble = VotingClassifier(estimators=[('mnb',clf),\n",
    "                                            ('sgd', sgd_model),\n",
    "                                            ('lgb',lgb), \n",
    "                                            ('cat', cat)\n",
    "                                           ],\n",
    "                                weights=weights, voting='soft', n_jobs=-1)\n",
    "    ensemble.fit(tf_train, y_train)\n",
    "    gc.collect()\n",
    "    final_preds = ensemble.predict_proba(tf_test)[:,1]\n",
    "    sub['generated'] = final_preds\n",
    "    sub.to_csv('submission.csv', index=False)\n",
    "    sub"
   ]
  },
  {
   "cell_type": "code",
   "execution_count": 16,
   "metadata": {},
   "outputs": [
    {
     "data": {
      "text/html": [
       "<div>\n",
       "<style scoped>\n",
       "    .dataframe tbody tr th:only-of-type {\n",
       "        vertical-align: middle;\n",
       "    }\n",
       "\n",
       "    .dataframe tbody tr th {\n",
       "        vertical-align: top;\n",
       "    }\n",
       "\n",
       "    .dataframe thead th {\n",
       "        text-align: right;\n",
       "    }\n",
       "</style>\n",
       "<table border=\"1\" class=\"dataframe\">\n",
       "  <thead>\n",
       "    <tr style=\"text-align: right;\">\n",
       "      <th></th>\n",
       "      <th>id</th>\n",
       "      <th>generated</th>\n",
       "    </tr>\n",
       "  </thead>\n",
       "  <tbody>\n",
       "    <tr>\n",
       "      <th>0</th>\n",
       "      <td>0000aaaa</td>\n",
       "      <td>0.1</td>\n",
       "    </tr>\n",
       "    <tr>\n",
       "      <th>1</th>\n",
       "      <td>1111bbbb</td>\n",
       "      <td>0.9</td>\n",
       "    </tr>\n",
       "    <tr>\n",
       "      <th>2</th>\n",
       "      <td>2222cccc</td>\n",
       "      <td>0.4</td>\n",
       "    </tr>\n",
       "  </tbody>\n",
       "</table>\n",
       "</div>"
      ],
      "text/plain": [
       "         id  generated\n",
       "0  0000aaaa        0.1\n",
       "1  1111bbbb        0.9\n",
       "2  2222cccc        0.4"
      ]
     },
     "execution_count": 16,
     "metadata": {},
     "output_type": "execute_result"
    }
   ],
   "source": [
    "sub"
   ]
  }
 ],
 "metadata": {
  "kernelspec": {
   "display_name": "Python 3",
   "language": "python",
   "name": "python3"
  },
  "language_info": {
   "codemirror_mode": {
    "name": "ipython",
    "version": 3
   },
   "file_extension": ".py",
   "mimetype": "text/x-python",
   "name": "python",
   "nbconvert_exporter": "python",
   "pygments_lexer": "ipython3",
   "version": "3.8.0"
  }
 },
 "nbformat": 4,
 "nbformat_minor": 2
}
