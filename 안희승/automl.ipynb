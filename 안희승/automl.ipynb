{
 "cells": [
  {
   "cell_type": "code",
   "execution_count": 2,
   "metadata": {},
   "outputs": [
    {
     "name": "stdout",
     "output_type": "stream",
     "text": [
      "zsh:1: no matches found: pycaret[nlp]\n"
     ]
    },
    {
     "name": "stdout",
     "output_type": "stream",
     "text": [
      "Note: you may need to restart the kernel to use updated packages.\n"
     ]
    }
   ],
   "source": [
    "%pip install pycaret[nlp]"
   ]
  },
  {
   "cell_type": "code",
   "execution_count": 3,
   "metadata": {},
   "outputs": [
    {
     "ename": "ModuleNotFoundError",
     "evalue": "No module named 'pycaret.nlp'",
     "output_type": "error",
     "traceback": [
      "\u001b[0;31m---------------------------------------------------------------------------\u001b[0m",
      "\u001b[0;31mModuleNotFoundError\u001b[0m                       Traceback (most recent call last)",
      "\u001b[1;32m/Users/heeseung/Workspace/detect-ai-generated-text/안희승/automl.ipynb Cell 2\u001b[0m line \u001b[0;36m1\n\u001b[0;32m----> <a href='vscode-notebook-cell:/Users/heeseung/Workspace/detect-ai-generated-text/%EC%95%88%ED%9D%AC%EC%8A%B9/automl.ipynb#W1sZmlsZQ%3D%3D?line=0'>1</a>\u001b[0m \u001b[39mfrom\u001b[39;00m \u001b[39mpycaret\u001b[39;00m\u001b[39m.\u001b[39;00m\u001b[39mnlp\u001b[39;00m \u001b[39mimport\u001b[39;00m \u001b[39m*\u001b[39m\n\u001b[1;32m      <a href='vscode-notebook-cell:/Users/heeseung/Workspace/detect-ai-generated-text/%EC%95%88%ED%9D%AC%EC%8A%B9/automl.ipynb#W1sZmlsZQ%3D%3D?line=1'>2</a>\u001b[0m \u001b[39mimport\u001b[39;00m \u001b[39mpandas\u001b[39;00m \u001b[39mas\u001b[39;00m \u001b[39mpd\u001b[39;00m\n\u001b[1;32m      <a href='vscode-notebook-cell:/Users/heeseung/Workspace/detect-ai-generated-text/%EC%95%88%ED%9D%AC%EC%8A%B9/automl.ipynb#W1sZmlsZQ%3D%3D?line=3'>4</a>\u001b[0m file_path \u001b[39m=\u001b[39m \u001b[39m\"\u001b[39m\u001b[39mdata/train_essays.csv\u001b[39m\u001b[39m\"\u001b[39m\n",
      "\u001b[0;31mModuleNotFoundError\u001b[0m: No module named 'pycaret.nlp'"
     ]
    }
   ],
   "source": [
    "from pycaret.nlp import *\n",
    "import pandas as pd\n",
    "\n",
    "file_path = \"data/train_essays.csv\"\n",
    "df = pd.read_csv(file_path)"
   ]
  },
  {
   "cell_type": "code",
   "execution_count": 14,
   "metadata": {},
   "outputs": [
    {
     "data": {
      "text/html": [],
      "text/plain": [
       "<IPython.core.display.HTML object>"
      ]
     },
     "metadata": {},
     "output_type": "display_data"
    },
    {
     "data": {
      "text/html": [
       "<style type=\"text/css\">\n",
       "#T_07e1a th {\n",
       "  text-align: left;\n",
       "}\n",
       "#T_07e1a_row0_col0, #T_07e1a_row0_col2, #T_07e1a_row0_col6, #T_07e1a_row1_col0, #T_07e1a_row1_col6, #T_07e1a_row2_col0, #T_07e1a_row2_col6, #T_07e1a_row3_col0, #T_07e1a_row3_col6, #T_07e1a_row4_col0, #T_07e1a_row4_col2, #T_07e1a_row4_col6, #T_07e1a_row5_col0, #T_07e1a_row5_col2, #T_07e1a_row5_col6, #T_07e1a_row6_col0, #T_07e1a_row6_col6, #T_07e1a_row7_col0, #T_07e1a_row7_col6, #T_07e1a_row8_col0, #T_07e1a_row8_col6, #T_07e1a_row9_col0, #T_07e1a_row9_col6, #T_07e1a_row10_col0, #T_07e1a_row10_col6, #T_07e1a_row11_col0, #T_07e1a_row11_col2, #T_07e1a_row11_col6, #T_07e1a_row12_col0, #T_07e1a_row12_col6 {\n",
       "  text-align: left;\n",
       "}\n",
       "#T_07e1a_row0_col1, #T_07e1a_row0_col3, #T_07e1a_row0_col4, #T_07e1a_row0_col5, #T_07e1a_row0_col7, #T_07e1a_row1_col1, #T_07e1a_row1_col2, #T_07e1a_row1_col3, #T_07e1a_row1_col4, #T_07e1a_row1_col5, #T_07e1a_row1_col7, #T_07e1a_row2_col1, #T_07e1a_row2_col2, #T_07e1a_row2_col3, #T_07e1a_row2_col4, #T_07e1a_row2_col5, #T_07e1a_row2_col7, #T_07e1a_row3_col1, #T_07e1a_row3_col2, #T_07e1a_row3_col3, #T_07e1a_row3_col4, #T_07e1a_row3_col5, #T_07e1a_row3_col7, #T_07e1a_row4_col1, #T_07e1a_row4_col3, #T_07e1a_row4_col4, #T_07e1a_row4_col5, #T_07e1a_row4_col7, #T_07e1a_row5_col1, #T_07e1a_row5_col3, #T_07e1a_row5_col4, #T_07e1a_row5_col5, #T_07e1a_row5_col7, #T_07e1a_row6_col1, #T_07e1a_row6_col2, #T_07e1a_row6_col3, #T_07e1a_row6_col4, #T_07e1a_row6_col5, #T_07e1a_row6_col7, #T_07e1a_row7_col1, #T_07e1a_row7_col2, #T_07e1a_row7_col3, #T_07e1a_row7_col4, #T_07e1a_row7_col5, #T_07e1a_row7_col7, #T_07e1a_row8_col1, #T_07e1a_row8_col2, #T_07e1a_row8_col3, #T_07e1a_row8_col4, #T_07e1a_row8_col5, #T_07e1a_row8_col7, #T_07e1a_row9_col1, #T_07e1a_row9_col2, #T_07e1a_row9_col3, #T_07e1a_row9_col4, #T_07e1a_row9_col5, #T_07e1a_row9_col7, #T_07e1a_row10_col1, #T_07e1a_row10_col2, #T_07e1a_row10_col3, #T_07e1a_row10_col4, #T_07e1a_row10_col5, #T_07e1a_row10_col7, #T_07e1a_row11_col1, #T_07e1a_row11_col3, #T_07e1a_row11_col4, #T_07e1a_row11_col5, #T_07e1a_row11_col7, #T_07e1a_row12_col1, #T_07e1a_row12_col2, #T_07e1a_row12_col3, #T_07e1a_row12_col4, #T_07e1a_row12_col5, #T_07e1a_row12_col7 {\n",
       "  text-align: left;\n",
       "  background-color: yellow;\n",
       "}\n",
       "#T_07e1a_row0_col8, #T_07e1a_row1_col8, #T_07e1a_row2_col8, #T_07e1a_row3_col8, #T_07e1a_row4_col8, #T_07e1a_row5_col8, #T_07e1a_row6_col8, #T_07e1a_row7_col8, #T_07e1a_row8_col8, #T_07e1a_row9_col8, #T_07e1a_row10_col8, #T_07e1a_row11_col8 {\n",
       "  text-align: left;\n",
       "  background-color: lightgrey;\n",
       "}\n",
       "#T_07e1a_row12_col8 {\n",
       "  text-align: left;\n",
       "  background-color: yellow;\n",
       "  background-color: lightgrey;\n",
       "}\n",
       "</style>\n",
       "<table id=\"T_07e1a\">\n",
       "  <thead>\n",
       "    <tr>\n",
       "      <th class=\"blank level0\" >&nbsp;</th>\n",
       "      <th id=\"T_07e1a_level0_col0\" class=\"col_heading level0 col0\" >Model</th>\n",
       "      <th id=\"T_07e1a_level0_col1\" class=\"col_heading level0 col1\" >Accuracy</th>\n",
       "      <th id=\"T_07e1a_level0_col2\" class=\"col_heading level0 col2\" >AUC</th>\n",
       "      <th id=\"T_07e1a_level0_col3\" class=\"col_heading level0 col3\" >Recall</th>\n",
       "      <th id=\"T_07e1a_level0_col4\" class=\"col_heading level0 col4\" >Prec.</th>\n",
       "      <th id=\"T_07e1a_level0_col5\" class=\"col_heading level0 col5\" >F1</th>\n",
       "      <th id=\"T_07e1a_level0_col6\" class=\"col_heading level0 col6\" >Kappa</th>\n",
       "      <th id=\"T_07e1a_level0_col7\" class=\"col_heading level0 col7\" >MCC</th>\n",
       "      <th id=\"T_07e1a_level0_col8\" class=\"col_heading level0 col8\" >TT (Sec)</th>\n",
       "    </tr>\n",
       "  </thead>\n",
       "  <tbody>\n",
       "    <tr>\n",
       "      <th id=\"T_07e1a_level0_row0\" class=\"row_heading level0 row0\" >lr</th>\n",
       "      <td id=\"T_07e1a_row0_col0\" class=\"data row0 col0\" >Logistic Regression</td>\n",
       "      <td id=\"T_07e1a_row0_col1\" class=\"data row0 col1\" >0.9979</td>\n",
       "      <td id=\"T_07e1a_row0_col2\" class=\"data row0 col2\" >0.0464</td>\n",
       "      <td id=\"T_07e1a_row0_col3\" class=\"data row0 col3\" >0.0000</td>\n",
       "      <td id=\"T_07e1a_row0_col4\" class=\"data row0 col4\" >0.0000</td>\n",
       "      <td id=\"T_07e1a_row0_col5\" class=\"data row0 col5\" >0.0000</td>\n",
       "      <td id=\"T_07e1a_row0_col6\" class=\"data row0 col6\" >nan</td>\n",
       "      <td id=\"T_07e1a_row0_col7\" class=\"data row0 col7\" >0.0000</td>\n",
       "      <td id=\"T_07e1a_row0_col8\" class=\"data row0 col8\" >0.1950</td>\n",
       "    </tr>\n",
       "    <tr>\n",
       "      <th id=\"T_07e1a_level0_row1\" class=\"row_heading level0 row1\" >knn</th>\n",
       "      <td id=\"T_07e1a_row1_col0\" class=\"data row1 col0\" >K Neighbors Classifier</td>\n",
       "      <td id=\"T_07e1a_row1_col1\" class=\"data row1 col1\" >0.9979</td>\n",
       "      <td id=\"T_07e1a_row1_col2\" class=\"data row1 col2\" >0.1000</td>\n",
       "      <td id=\"T_07e1a_row1_col3\" class=\"data row1 col3\" >0.0000</td>\n",
       "      <td id=\"T_07e1a_row1_col4\" class=\"data row1 col4\" >0.0000</td>\n",
       "      <td id=\"T_07e1a_row1_col5\" class=\"data row1 col5\" >0.0000</td>\n",
       "      <td id=\"T_07e1a_row1_col6\" class=\"data row1 col6\" >nan</td>\n",
       "      <td id=\"T_07e1a_row1_col7\" class=\"data row1 col7\" >0.0000</td>\n",
       "      <td id=\"T_07e1a_row1_col8\" class=\"data row1 col8\" >0.0200</td>\n",
       "    </tr>\n",
       "    <tr>\n",
       "      <th id=\"T_07e1a_level0_row2\" class=\"row_heading level0 row2\" >nb</th>\n",
       "      <td id=\"T_07e1a_row2_col0\" class=\"data row2 col0\" >Naive Bayes</td>\n",
       "      <td id=\"T_07e1a_row2_col1\" class=\"data row2 col1\" >0.9979</td>\n",
       "      <td id=\"T_07e1a_row2_col2\" class=\"data row2 col2\" >0.1000</td>\n",
       "      <td id=\"T_07e1a_row2_col3\" class=\"data row2 col3\" >0.0000</td>\n",
       "      <td id=\"T_07e1a_row2_col4\" class=\"data row2 col4\" >0.0000</td>\n",
       "      <td id=\"T_07e1a_row2_col5\" class=\"data row2 col5\" >0.0000</td>\n",
       "      <td id=\"T_07e1a_row2_col6\" class=\"data row2 col6\" >nan</td>\n",
       "      <td id=\"T_07e1a_row2_col7\" class=\"data row2 col7\" >0.0000</td>\n",
       "      <td id=\"T_07e1a_row2_col8\" class=\"data row2 col8\" >0.0160</td>\n",
       "    </tr>\n",
       "    <tr>\n",
       "      <th id=\"T_07e1a_level0_row3\" class=\"row_heading level0 row3\" >dt</th>\n",
       "      <td id=\"T_07e1a_row3_col0\" class=\"data row3 col0\" >Decision Tree Classifier</td>\n",
       "      <td id=\"T_07e1a_row3_col1\" class=\"data row3 col1\" >0.9979</td>\n",
       "      <td id=\"T_07e1a_row3_col2\" class=\"data row3 col2\" >0.1000</td>\n",
       "      <td id=\"T_07e1a_row3_col3\" class=\"data row3 col3\" >0.0000</td>\n",
       "      <td id=\"T_07e1a_row3_col4\" class=\"data row3 col4\" >0.0000</td>\n",
       "      <td id=\"T_07e1a_row3_col5\" class=\"data row3 col5\" >0.0000</td>\n",
       "      <td id=\"T_07e1a_row3_col6\" class=\"data row3 col6\" >nan</td>\n",
       "      <td id=\"T_07e1a_row3_col7\" class=\"data row3 col7\" >0.0000</td>\n",
       "      <td id=\"T_07e1a_row3_col8\" class=\"data row3 col8\" >0.0160</td>\n",
       "    </tr>\n",
       "    <tr>\n",
       "      <th id=\"T_07e1a_level0_row4\" class=\"row_heading level0 row4\" >svm</th>\n",
       "      <td id=\"T_07e1a_row4_col0\" class=\"data row4 col0\" >SVM - Linear Kernel</td>\n",
       "      <td id=\"T_07e1a_row4_col1\" class=\"data row4 col1\" >0.9979</td>\n",
       "      <td id=\"T_07e1a_row4_col2\" class=\"data row4 col2\" >0.0000</td>\n",
       "      <td id=\"T_07e1a_row4_col3\" class=\"data row4 col3\" >0.0000</td>\n",
       "      <td id=\"T_07e1a_row4_col4\" class=\"data row4 col4\" >0.0000</td>\n",
       "      <td id=\"T_07e1a_row4_col5\" class=\"data row4 col5\" >0.0000</td>\n",
       "      <td id=\"T_07e1a_row4_col6\" class=\"data row4 col6\" >nan</td>\n",
       "      <td id=\"T_07e1a_row4_col7\" class=\"data row4 col7\" >0.0000</td>\n",
       "      <td id=\"T_07e1a_row4_col8\" class=\"data row4 col8\" >0.0160</td>\n",
       "    </tr>\n",
       "    <tr>\n",
       "      <th id=\"T_07e1a_level0_row5\" class=\"row_heading level0 row5\" >ridge</th>\n",
       "      <td id=\"T_07e1a_row5_col0\" class=\"data row5 col0\" >Ridge Classifier</td>\n",
       "      <td id=\"T_07e1a_row5_col1\" class=\"data row5 col1\" >0.9979</td>\n",
       "      <td id=\"T_07e1a_row5_col2\" class=\"data row5 col2\" >0.0000</td>\n",
       "      <td id=\"T_07e1a_row5_col3\" class=\"data row5 col3\" >0.0000</td>\n",
       "      <td id=\"T_07e1a_row5_col4\" class=\"data row5 col4\" >0.0000</td>\n",
       "      <td id=\"T_07e1a_row5_col5\" class=\"data row5 col5\" >0.0000</td>\n",
       "      <td id=\"T_07e1a_row5_col6\" class=\"data row5 col6\" >nan</td>\n",
       "      <td id=\"T_07e1a_row5_col7\" class=\"data row5 col7\" >0.0000</td>\n",
       "      <td id=\"T_07e1a_row5_col8\" class=\"data row5 col8\" >0.0170</td>\n",
       "    </tr>\n",
       "    <tr>\n",
       "      <th id=\"T_07e1a_level0_row6\" class=\"row_heading level0 row6\" >rf</th>\n",
       "      <td id=\"T_07e1a_row6_col0\" class=\"data row6 col0\" >Random Forest Classifier</td>\n",
       "      <td id=\"T_07e1a_row6_col1\" class=\"data row6 col1\" >0.9979</td>\n",
       "      <td id=\"T_07e1a_row6_col2\" class=\"data row6 col2\" >0.1000</td>\n",
       "      <td id=\"T_07e1a_row6_col3\" class=\"data row6 col3\" >0.0000</td>\n",
       "      <td id=\"T_07e1a_row6_col4\" class=\"data row6 col4\" >0.0000</td>\n",
       "      <td id=\"T_07e1a_row6_col5\" class=\"data row6 col5\" >0.0000</td>\n",
       "      <td id=\"T_07e1a_row6_col6\" class=\"data row6 col6\" >nan</td>\n",
       "      <td id=\"T_07e1a_row6_col7\" class=\"data row6 col7\" >0.0000</td>\n",
       "      <td id=\"T_07e1a_row6_col8\" class=\"data row6 col8\" >0.0410</td>\n",
       "    </tr>\n",
       "    <tr>\n",
       "      <th id=\"T_07e1a_level0_row7\" class=\"row_heading level0 row7\" >ada</th>\n",
       "      <td id=\"T_07e1a_row7_col0\" class=\"data row7 col0\" >Ada Boost Classifier</td>\n",
       "      <td id=\"T_07e1a_row7_col1\" class=\"data row7 col1\" >0.9979</td>\n",
       "      <td id=\"T_07e1a_row7_col2\" class=\"data row7 col2\" >0.1000</td>\n",
       "      <td id=\"T_07e1a_row7_col3\" class=\"data row7 col3\" >0.0000</td>\n",
       "      <td id=\"T_07e1a_row7_col4\" class=\"data row7 col4\" >0.0000</td>\n",
       "      <td id=\"T_07e1a_row7_col5\" class=\"data row7 col5\" >0.0000</td>\n",
       "      <td id=\"T_07e1a_row7_col6\" class=\"data row7 col6\" >nan</td>\n",
       "      <td id=\"T_07e1a_row7_col7\" class=\"data row7 col7\" >0.0000</td>\n",
       "      <td id=\"T_07e1a_row7_col8\" class=\"data row7 col8\" >0.0170</td>\n",
       "    </tr>\n",
       "    <tr>\n",
       "      <th id=\"T_07e1a_level0_row8\" class=\"row_heading level0 row8\" >gbc</th>\n",
       "      <td id=\"T_07e1a_row8_col0\" class=\"data row8 col0\" >Gradient Boosting Classifier</td>\n",
       "      <td id=\"T_07e1a_row8_col1\" class=\"data row8 col1\" >0.9979</td>\n",
       "      <td id=\"T_07e1a_row8_col2\" class=\"data row8 col2\" >0.1000</td>\n",
       "      <td id=\"T_07e1a_row8_col3\" class=\"data row8 col3\" >0.0000</td>\n",
       "      <td id=\"T_07e1a_row8_col4\" class=\"data row8 col4\" >0.0000</td>\n",
       "      <td id=\"T_07e1a_row8_col5\" class=\"data row8 col5\" >0.0000</td>\n",
       "      <td id=\"T_07e1a_row8_col6\" class=\"data row8 col6\" >nan</td>\n",
       "      <td id=\"T_07e1a_row8_col7\" class=\"data row8 col7\" >0.0000</td>\n",
       "      <td id=\"T_07e1a_row8_col8\" class=\"data row8 col8\" >0.0190</td>\n",
       "    </tr>\n",
       "    <tr>\n",
       "      <th id=\"T_07e1a_level0_row9\" class=\"row_heading level0 row9\" >lda</th>\n",
       "      <td id=\"T_07e1a_row9_col0\" class=\"data row9 col0\" >Linear Discriminant Analysis</td>\n",
       "      <td id=\"T_07e1a_row9_col1\" class=\"data row9 col1\" >0.9979</td>\n",
       "      <td id=\"T_07e1a_row9_col2\" class=\"data row9 col2\" >0.1000</td>\n",
       "      <td id=\"T_07e1a_row9_col3\" class=\"data row9 col3\" >0.0000</td>\n",
       "      <td id=\"T_07e1a_row9_col4\" class=\"data row9 col4\" >0.0000</td>\n",
       "      <td id=\"T_07e1a_row9_col5\" class=\"data row9 col5\" >0.0000</td>\n",
       "      <td id=\"T_07e1a_row9_col6\" class=\"data row9 col6\" >nan</td>\n",
       "      <td id=\"T_07e1a_row9_col7\" class=\"data row9 col7\" >0.0000</td>\n",
       "      <td id=\"T_07e1a_row9_col8\" class=\"data row9 col8\" >0.0170</td>\n",
       "    </tr>\n",
       "    <tr>\n",
       "      <th id=\"T_07e1a_level0_row10\" class=\"row_heading level0 row10\" >et</th>\n",
       "      <td id=\"T_07e1a_row10_col0\" class=\"data row10 col0\" >Extra Trees Classifier</td>\n",
       "      <td id=\"T_07e1a_row10_col1\" class=\"data row10 col1\" >0.9979</td>\n",
       "      <td id=\"T_07e1a_row10_col2\" class=\"data row10 col2\" >0.1000</td>\n",
       "      <td id=\"T_07e1a_row10_col3\" class=\"data row10 col3\" >0.0000</td>\n",
       "      <td id=\"T_07e1a_row10_col4\" class=\"data row10 col4\" >0.0000</td>\n",
       "      <td id=\"T_07e1a_row10_col5\" class=\"data row10 col5\" >0.0000</td>\n",
       "      <td id=\"T_07e1a_row10_col6\" class=\"data row10 col6\" >nan</td>\n",
       "      <td id=\"T_07e1a_row10_col7\" class=\"data row10 col7\" >0.0000</td>\n",
       "      <td id=\"T_07e1a_row10_col8\" class=\"data row10 col8\" >0.0390</td>\n",
       "    </tr>\n",
       "    <tr>\n",
       "      <th id=\"T_07e1a_level0_row11\" class=\"row_heading level0 row11\" >lightgbm</th>\n",
       "      <td id=\"T_07e1a_row11_col0\" class=\"data row11 col0\" >Light Gradient Boosting Machine</td>\n",
       "      <td id=\"T_07e1a_row11_col1\" class=\"data row11 col1\" >0.9979</td>\n",
       "      <td id=\"T_07e1a_row11_col2\" class=\"data row11 col2\" >0.0464</td>\n",
       "      <td id=\"T_07e1a_row11_col3\" class=\"data row11 col3\" >0.0000</td>\n",
       "      <td id=\"T_07e1a_row11_col4\" class=\"data row11 col4\" >0.0000</td>\n",
       "      <td id=\"T_07e1a_row11_col5\" class=\"data row11 col5\" >0.0000</td>\n",
       "      <td id=\"T_07e1a_row11_col6\" class=\"data row11 col6\" >nan</td>\n",
       "      <td id=\"T_07e1a_row11_col7\" class=\"data row11 col7\" >0.0000</td>\n",
       "      <td id=\"T_07e1a_row11_col8\" class=\"data row11 col8\" >0.0380</td>\n",
       "    </tr>\n",
       "    <tr>\n",
       "      <th id=\"T_07e1a_level0_row12\" class=\"row_heading level0 row12\" >dummy</th>\n",
       "      <td id=\"T_07e1a_row12_col0\" class=\"data row12 col0\" >Dummy Classifier</td>\n",
       "      <td id=\"T_07e1a_row12_col1\" class=\"data row12 col1\" >0.9979</td>\n",
       "      <td id=\"T_07e1a_row12_col2\" class=\"data row12 col2\" >0.1000</td>\n",
       "      <td id=\"T_07e1a_row12_col3\" class=\"data row12 col3\" >0.0000</td>\n",
       "      <td id=\"T_07e1a_row12_col4\" class=\"data row12 col4\" >0.0000</td>\n",
       "      <td id=\"T_07e1a_row12_col5\" class=\"data row12 col5\" >0.0000</td>\n",
       "      <td id=\"T_07e1a_row12_col6\" class=\"data row12 col6\" >nan</td>\n",
       "      <td id=\"T_07e1a_row12_col7\" class=\"data row12 col7\" >0.0000</td>\n",
       "      <td id=\"T_07e1a_row12_col8\" class=\"data row12 col8\" >0.0150</td>\n",
       "    </tr>\n",
       "  </tbody>\n",
       "</table>\n"
      ],
      "text/plain": [
       "<pandas.io.formats.style.Styler at 0x285adbe10>"
      ]
     },
     "metadata": {},
     "output_type": "display_data"
    },
    {
     "data": {
      "text/html": [],
      "text/plain": [
       "<IPython.core.display.HTML object>"
      ]
     },
     "metadata": {},
     "output_type": "display_data"
    }
   ],
   "source": [
    "best = compare_models()"
   ]
  }
 ],
 "metadata": {
  "kernelspec": {
   "display_name": "kaggle",
   "language": "python",
   "name": "python3"
  },
  "language_info": {
   "codemirror_mode": {
    "name": "ipython",
    "version": 3
   },
   "file_extension": ".py",
   "mimetype": "text/x-python",
   "name": "python",
   "nbconvert_exporter": "python",
   "pygments_lexer": "ipython3",
   "version": "3.11.5"
  }
 },
 "nbformat": 4,
 "nbformat_minor": 2
}
